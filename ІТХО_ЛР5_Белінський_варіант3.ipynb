{
  "nbformat": 4,
  "nbformat_minor": 0,
  "metadata": {
    "colab": {
      "provenance": [],
      "gpuType": "V28",
      "authorship_tag": "ABX9TyNmw3tD7WuDr0QgaeJlKGbY",
      "include_colab_link": true
    },
    "kernelspec": {
      "name": "python3",
      "display_name": "Python 3"
    },
    "language_info": {
      "name": "python"
    },
    "accelerator": "TPU"
  },
  "cells": [
    {
      "cell_type": "markdown",
      "metadata": {
        "id": "view-in-github",
        "colab_type": "text"
      },
      "source": [
        "<a href=\"https://colab.research.google.com/github/siquency/Google_colab/blob/main/%D0%86%D0%A2%D0%A5%D0%9E_%D0%9B%D0%A05_%D0%91%D0%B5%D0%BB%D1%96%D0%BD%D1%81%D1%8C%D0%BA%D0%B8%D0%B9_%D0%B2%D0%B0%D1%80%D1%96%D0%B0%D0%BD%D1%823.ipynb\" target=\"_parent\"><img src=\"https://colab.research.google.com/assets/colab-badge.svg\" alt=\"Open In Colab\"/></a>"
      ]
    },
    {
      "cell_type": "code",
      "source": [
        "import tensorflow as tf\n",
        "from tensorflow.keras.models import Sequential\n",
        "from tensorflow.keras.layers import Conv2D, MaxPooling2D, Flatten, Dense, Dropout\n",
        "from tensorflow.keras.datasets import cifar10\n",
        "from tensorflow.keras.utils import to_categorical\n",
        "import numpy as np\n",
        "\n",
        "# Завантажуємо набір CIFAR-10\n",
        "(x_train, y_train), (x_test, y_test) = cifar10.load_data()\n",
        "\n",
        "# Для прикладу, ми візьмемо клас \"птахи\" як дефектні листки, а клас \"жаби\" як нормальні\n",
        "defective_class = 2  # клас птахів\n",
        "normal_class = 6  # клас жаб\n",
        "\n",
        "# Фільтрація даних\n",
        "train_filter = np.where((y_train == defective_class) | (y_train == normal_class))\n",
        "test_filter = np.where((y_test == defective_class) | (y_test == normal_class))\n",
        "\n",
        "x_train, y_train = x_train[train_filter], y_train[train_filter]\n",
        "x_test, y_test = x_test[test_filter], y_test[test_filter]\n",
        "\n",
        "# Змінюємо мітки на 0 і 1\n",
        "y_train = np.where(y_train == defective_class, 0, 1)\n",
        "y_test = np.where(y_test == defective_class, 0, 1)\n",
        "\n",
        "# Перевіримо форму даних\n",
        "print(f\"x_train shape before reshape: {x_train.shape}\")\n",
        "print(f\"x_test shape before reshape: {x_test.shape}\")\n",
        "\n",
        "# Якщо дані мають форму (None, 32, 3), їх потрібно перетворити на (None, 32, 32, 3)\n",
        "x_train = np.resize(x_train, (x_train.shape[0], 32, 32, 3))\n",
        "x_test = np.resize(x_test, (x_test.shape[0], 32, 32, 3))\n",
        "\n",
        "# Нормалізація даних\n",
        "x_train = x_train.astype('float32') / 255\n",
        "x_test = x_test.astype('float32') / 255\n",
        "\n",
        "# Перевіримо форму після можливих змін\n",
        "print(f\"x_train shape after reshape: {x_train.shape}\")\n",
        "print(f\"x_test shape after reshape: {x_test.shape}\")\n",
        "\n",
        "# One-hot encoding для міток\n",
        "y_train = to_categorical(y_train, 2)\n",
        "y_test = to_categorical(y_test, 2)\n",
        "\n",
        "# Ініціалізація моделі\n",
        "model = Sequential()\n",
        "\n",
        "# Додаємо згорткові шари\n",
        "model.add(Conv2D(32, (3, 3), activation='relu', input_shape=(32, 32, 3)))\n",
        "model.add(MaxPooling2D(pool_size=(2, 2)))\n",
        "\n",
        "model.add(Conv2D(64, (3, 3), activation='relu'))\n",
        "model.add(MaxPooling2D(pool_size=(2, 2)))\n",
        "\n",
        "model.add(Conv2D(128, (3, 3), activation='relu'))\n",
        "model.add(MaxPooling2D(pool_size=(2, 2)))\n",
        "\n",
        "# Перетворюємо на плоский шар\n",
        "model.add(Flatten())\n",
        "\n",
        "# Повнозв'язні шари\n",
        "model.add(Dense(512, activation='relu'))\n",
        "model.add(Dropout(0.5))\n",
        "\n",
        "# Шар виходу з 2 класами\n",
        "model.add(Dense(2, activation='softmax'))\n",
        "\n",
        "# Компіляція моделі\n",
        "model.compile(optimizer='adam', loss='categorical_crossentropy', metrics=['accuracy'])\n",
        "\n",
        "# Навчання моделі\n",
        "model.fit(x_train, y_train, epochs=10, batch_size=32, validation_data=(x_test, y_test))\n",
        "\n",
        "# Оцінка моделі\n",
        "loss, accuracy = model.evaluate(x_test, y_test)\n",
        "print(f\"Точність на тестових даних: {accuracy:.2f}\")"
      ],
      "metadata": {
        "colab": {
          "base_uri": "https://localhost:8080/"
        },
        "id": "Id8tA21w3_uD",
        "outputId": "17dbe4d3-4db7-4dfc-e054-96a45c35a29e"
      },
      "execution_count": null,
      "outputs": [
        {
          "output_type": "stream",
          "name": "stdout",
          "text": [
            "Downloading data from https://www.cs.toronto.edu/~kriz/cifar-10-python.tar.gz\n",
            "170498071/170498071 [==============================] - 2s 0us/step\n",
            "x_train shape before reshape: (10000, 32, 3)\n",
            "x_test shape before reshape: (2000, 32, 3)\n",
            "x_train shape after reshape: (10000, 32, 32, 3)\n",
            "x_test shape after reshape: (2000, 32, 32, 3)\n",
            "Epoch 1/10\n",
            "313/313 [==============================] - 16s 47ms/step - loss: 0.6948 - accuracy: 0.4969 - val_loss: 0.6933 - val_accuracy: 0.5000\n",
            "Epoch 2/10\n",
            "313/313 [==============================] - 13s 42ms/step - loss: 0.6933 - accuracy: 0.5055 - val_loss: 0.6932 - val_accuracy: 0.5000\n",
            "Epoch 3/10\n",
            "313/313 [==============================] - 13s 42ms/step - loss: 0.6936 - accuracy: 0.5012 - val_loss: 0.6932 - val_accuracy: 0.5000\n",
            "Epoch 4/10\n",
            "313/313 [==============================] - 13s 41ms/step - loss: 0.6933 - accuracy: 0.4993 - val_loss: 0.6932 - val_accuracy: 0.4990\n",
            "Epoch 5/10\n",
            "313/313 [==============================] - 13s 41ms/step - loss: 0.6935 - accuracy: 0.5007 - val_loss: 0.6932 - val_accuracy: 0.5000\n",
            "Epoch 6/10\n",
            "313/313 [==============================] - 13s 41ms/step - loss: 0.6933 - accuracy: 0.4972 - val_loss: 0.6932 - val_accuracy: 0.5000\n",
            "Epoch 7/10\n",
            "313/313 [==============================] - 13s 42ms/step - loss: 0.6936 - accuracy: 0.4948 - val_loss: 0.6932 - val_accuracy: 0.5000\n",
            "Epoch 8/10\n",
            "313/313 [==============================] - 13s 41ms/step - loss: 0.6936 - accuracy: 0.5023 - val_loss: 0.6988 - val_accuracy: 0.5000\n",
            "Epoch 9/10\n",
            "313/313 [==============================] - 13s 41ms/step - loss: 0.6936 - accuracy: 0.4973 - val_loss: 0.6933 - val_accuracy: 0.5000\n",
            "Epoch 10/10\n",
            "313/313 [==============================] - 13s 42ms/step - loss: 0.6932 - accuracy: 0.5070 - val_loss: 0.6932 - val_accuracy: 0.5000\n",
            "63/63 [==============================] - 1s 11ms/step - loss: 0.6932 - accuracy: 0.5000\n",
            "Точність на тестових даних: 0.50\n"
          ]
        }
      ]
    }
  ]
}